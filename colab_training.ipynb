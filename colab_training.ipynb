{
  "cells": [
    {
      "cell_type": "markdown",
      "metadata": {},
      "source": [
        "## Mounting Drive to colab"
      ]
    },
    {
      "cell_type": "code",
      "execution_count": null,
      "metadata": {
        "colab": {
          "base_uri": "https://localhost:8080/"
        },
        "id": "RwxF0-qHy8ea",
        "outputId": "cec01495-9a43-4760-b648-6db115f0a480"
      },
      "outputs": [
        {
          "name": "stdout",
          "output_type": "stream",
          "text": [
            "Mounted at /content/drive\n"
          ]
        }
      ],
      "source": [
        "from google.colab import drive\n",
        "drive.mount('/content/drive')"
      ]
    },
    {
      "cell_type": "code",
      "execution_count": null,
      "metadata": {
        "colab": {
          "base_uri": "https://localhost:8080/"
        },
        "id": "3vFEinQmy_aS",
        "outputId": "c54c1890-bdaf-44b0-9699-fe3bb3bcd730"
      },
      "outputs": [
        {
          "name": "stdout",
          "output_type": "stream",
          "text": [
            "/content/drive/MyDrive/last\n"
          ]
        }
      ],
      "source": [
        "%mkdir /content/drive/MyDrive/last\n",
        "%cd /content/drive/MyDrive/last/"
      ]
    },
    {
      "cell_type": "markdown",
      "metadata": {},
      "source": [
        "## Cloning YOLOv5 and installing required packages"
      ]
    },
    {
      "cell_type": "code",
      "execution_count": null,
      "metadata": {
        "colab": {
          "base_uri": "https://localhost:8080/",
          "height": 1000
        },
        "id": "XNwv93zFx9kL",
        "outputId": "f75f74d7-8b4b-4bc9-e88c-037d70996208"
      },
      "outputs": [
        {
          "name": "stdout",
          "output_type": "stream",
          "text": [
            "Cloning into 'yolov5'...\n",
            "remote: Enumerating objects: 16582, done.\u001b[K\n",
            "remote: Counting objects: 100% (60/60), done.\u001b[K\n",
            "remote: Compressing objects: 100% (42/42), done.\u001b[K\n",
            "remote: Total 16582 (delta 30), reused 39 (delta 18), pack-reused 16522\u001b[K\n",
            "Receiving objects: 100% (16582/16582), 15.11 MiB | 13.36 MiB/s, done.\n",
            "Resolving deltas: 100% (11383/11383), done.\n",
            "Updating files: 100% (148/148), done.\n",
            "/content/drive/MyDrive/last/yolov5\n",
            "Collecting gitpython>=3.1.30 (from -r requirements.txt (line 5))\n",
            "  Downloading GitPython-3.1.43-py3-none-any.whl (207 kB)\n",
            "\u001b[2K     \u001b[90m━━━━━━━━━━━━━━━━━━━━━━━━━━━━━━━━━━━━━━━━\u001b[0m \u001b[32m207.3/207.3 kB\u001b[0m \u001b[31m5.3 MB/s\u001b[0m eta \u001b[36m0:00:00\u001b[0m\n",
            "\u001b[?25hRequirement already satisfied: matplotlib>=3.3 in /usr/local/lib/python3.10/dist-packages (from -r requirements.txt (line 6)) (3.7.1)\n",
            "Requirement already satisfied: numpy>=1.23.5 in /usr/local/lib/python3.10/dist-packages (from -r requirements.txt (line 7)) (1.25.2)\n",
            "Requirement already satisfied: opencv-python>=4.1.1 in /usr/local/lib/python3.10/dist-packages (from -r requirements.txt (line 8)) (4.8.0.76)\n",
            "Collecting pillow>=10.3.0 (from -r requirements.txt (line 9))\n",
            "  Downloading pillow-10.3.0-cp310-cp310-manylinux_2_28_x86_64.whl (4.5 MB)\n",
            "\u001b[2K     \u001b[90m━━━━━━━━━━━━━━━━━━━━━━━━━━━━━━━━━━━━━━━━\u001b[0m \u001b[32m4.5/4.5 MB\u001b[0m \u001b[31m70.9 MB/s\u001b[0m eta \u001b[36m0:00:00\u001b[0m\n",
            "\u001b[?25hRequirement already satisfied: psutil in /usr/local/lib/python3.10/dist-packages (from -r requirements.txt (line 10)) (5.9.5)\n",
            "Requirement already satisfied: PyYAML>=5.3.1 in /usr/local/lib/python3.10/dist-packages (from -r requirements.txt (line 11)) (6.0.1)\n",
            "Requirement already satisfied: requests>=2.23.0 in /usr/local/lib/python3.10/dist-packages (from -r requirements.txt (line 12)) (2.31.0)\n",
            "Requirement already satisfied: scipy>=1.4.1 in /usr/local/lib/python3.10/dist-packages (from -r requirements.txt (line 13)) (1.11.4)\n",
            "Collecting thop>=0.1.1 (from -r requirements.txt (line 14))\n",
            "  Downloading thop-0.1.1.post2209072238-py3-none-any.whl (15 kB)\n",
            "Requirement already satisfied: torch>=1.8.0 in /usr/local/lib/python3.10/dist-packages (from -r requirements.txt (line 15)) (2.2.1+cu121)\n",
            "Requirement already satisfied: torchvision>=0.9.0 in /usr/local/lib/python3.10/dist-packages (from -r requirements.txt (line 16)) (0.17.1+cu121)\n",
            "Requirement already satisfied: tqdm>=4.64.0 in /usr/local/lib/python3.10/dist-packages (from -r requirements.txt (line 17)) (4.66.4)\n",
            "Collecting ultralytics>=8.0.232 (from -r requirements.txt (line 18))\n",
            "  Downloading ultralytics-8.2.11-py3-none-any.whl (756 kB)\n",
            "\u001b[2K     \u001b[90m━━━━━━━━━━━━━━━━━━━━━━━━━━━━━━━━━━━━━━━━\u001b[0m \u001b[32m756.5/756.5 kB\u001b[0m \u001b[31m47.8 MB/s\u001b[0m eta \u001b[36m0:00:00\u001b[0m\n",
            "\u001b[?25hRequirement already satisfied: pandas>=1.1.4 in /usr/local/lib/python3.10/dist-packages (from -r requirements.txt (line 27)) (2.0.3)\n",
            "Requirement already satisfied: seaborn>=0.11.0 in /usr/local/lib/python3.10/dist-packages (from -r requirements.txt (line 28)) (0.13.1)\n",
            "Requirement already satisfied: setuptools>=65.5.1 in /usr/local/lib/python3.10/dist-packages (from -r requirements.txt (line 42)) (67.7.2)\n",
            "Requirement already satisfied: wheel>=0.38.0 in /usr/local/lib/python3.10/dist-packages (from -r requirements.txt (line 50)) (0.43.0)\n",
            "Collecting gitdb<5,>=4.0.1 (from gitpython>=3.1.30->-r requirements.txt (line 5))\n",
            "  Downloading gitdb-4.0.11-py3-none-any.whl (62 kB)\n",
            "\u001b[2K     \u001b[90m━━━━━━━━━━━━━━━━━━━━━━━━━━━━━━━━━━━━━━━━\u001b[0m \u001b[32m62.7/62.7 kB\u001b[0m \u001b[31m9.7 MB/s\u001b[0m eta \u001b[36m0:00:00\u001b[0m\n",
            "\u001b[?25hRequirement already satisfied: contourpy>=1.0.1 in /usr/local/lib/python3.10/dist-packages (from matplotlib>=3.3->-r requirements.txt (line 6)) (1.2.1)\n",
            "Requirement already satisfied: cycler>=0.10 in /usr/local/lib/python3.10/dist-packages (from matplotlib>=3.3->-r requirements.txt (line 6)) (0.12.1)\n",
            "Requirement already satisfied: fonttools>=4.22.0 in /usr/local/lib/python3.10/dist-packages (from matplotlib>=3.3->-r requirements.txt (line 6)) (4.51.0)\n",
            "Requirement already satisfied: kiwisolver>=1.0.1 in /usr/local/lib/python3.10/dist-packages (from matplotlib>=3.3->-r requirements.txt (line 6)) (1.4.5)\n",
            "Requirement already satisfied: packaging>=20.0 in /usr/local/lib/python3.10/dist-packages (from matplotlib>=3.3->-r requirements.txt (line 6)) (24.0)\n",
            "Requirement already satisfied: pyparsing>=2.3.1 in /usr/local/lib/python3.10/dist-packages (from matplotlib>=3.3->-r requirements.txt (line 6)) (3.1.2)\n",
            "Requirement already satisfied: python-dateutil>=2.7 in /usr/local/lib/python3.10/dist-packages (from matplotlib>=3.3->-r requirements.txt (line 6)) (2.8.2)\n",
            "Requirement already satisfied: charset-normalizer<4,>=2 in /usr/local/lib/python3.10/dist-packages (from requests>=2.23.0->-r requirements.txt (line 12)) (3.3.2)\n",
            "Requirement already satisfied: idna<4,>=2.5 in /usr/local/lib/python3.10/dist-packages (from requests>=2.23.0->-r requirements.txt (line 12)) (3.7)\n",
            "Requirement already satisfied: urllib3<3,>=1.21.1 in /usr/local/lib/python3.10/dist-packages (from requests>=2.23.0->-r requirements.txt (line 12)) (2.0.7)\n",
            "Requirement already satisfied: certifi>=2017.4.17 in /usr/local/lib/python3.10/dist-packages (from requests>=2.23.0->-r requirements.txt (line 12)) (2024.2.2)\n",
            "Requirement already satisfied: filelock in /usr/local/lib/python3.10/dist-packages (from torch>=1.8.0->-r requirements.txt (line 15)) (3.14.0)\n",
            "Requirement already satisfied: typing-extensions>=4.8.0 in /usr/local/lib/python3.10/dist-packages (from torch>=1.8.0->-r requirements.txt (line 15)) (4.11.0)\n",
            "Requirement already satisfied: sympy in /usr/local/lib/python3.10/dist-packages (from torch>=1.8.0->-r requirements.txt (line 15)) (1.12)\n",
            "Requirement already satisfied: networkx in /usr/local/lib/python3.10/dist-packages (from torch>=1.8.0->-r requirements.txt (line 15)) (3.3)\n",
            "Requirement already satisfied: jinja2 in /usr/local/lib/python3.10/dist-packages (from torch>=1.8.0->-r requirements.txt (line 15)) (3.1.3)\n",
            "Requirement already satisfied: fsspec in /usr/local/lib/python3.10/dist-packages (from torch>=1.8.0->-r requirements.txt (line 15)) (2023.6.0)\n",
            "Collecting nvidia-cuda-nvrtc-cu12==12.1.105 (from torch>=1.8.0->-r requirements.txt (line 15))\n",
            "  Using cached nvidia_cuda_nvrtc_cu12-12.1.105-py3-none-manylinux1_x86_64.whl (23.7 MB)\n",
            "Collecting nvidia-cuda-runtime-cu12==12.1.105 (from torch>=1.8.0->-r requirements.txt (line 15))\n",
            "  Using cached nvidia_cuda_runtime_cu12-12.1.105-py3-none-manylinux1_x86_64.whl (823 kB)\n",
            "Collecting nvidia-cuda-cupti-cu12==12.1.105 (from torch>=1.8.0->-r requirements.txt (line 15))\n",
            "  Using cached nvidia_cuda_cupti_cu12-12.1.105-py3-none-manylinux1_x86_64.whl (14.1 MB)\n",
            "Collecting nvidia-cudnn-cu12==8.9.2.26 (from torch>=1.8.0->-r requirements.txt (line 15))\n",
            "  Using cached nvidia_cudnn_cu12-8.9.2.26-py3-none-manylinux1_x86_64.whl (731.7 MB)\n",
            "Collecting nvidia-cublas-cu12==12.1.3.1 (from torch>=1.8.0->-r requirements.txt (line 15))\n",
            "  Using cached nvidia_cublas_cu12-12.1.3.1-py3-none-manylinux1_x86_64.whl (410.6 MB)\n",
            "Collecting nvidia-cufft-cu12==11.0.2.54 (from torch>=1.8.0->-r requirements.txt (line 15))\n",
            "  Using cached nvidia_cufft_cu12-11.0.2.54-py3-none-manylinux1_x86_64.whl (121.6 MB)\n",
            "Collecting nvidia-curand-cu12==10.3.2.106 (from torch>=1.8.0->-r requirements.txt (line 15))\n",
            "  Using cached nvidia_curand_cu12-10.3.2.106-py3-none-manylinux1_x86_64.whl (56.5 MB)\n",
            "Collecting nvidia-cusolver-cu12==11.4.5.107 (from torch>=1.8.0->-r requirements.txt (line 15))\n",
            "  Using cached nvidia_cusolver_cu12-11.4.5.107-py3-none-manylinux1_x86_64.whl (124.2 MB)\n",
            "Collecting nvidia-cusparse-cu12==12.1.0.106 (from torch>=1.8.0->-r requirements.txt (line 15))\n",
            "  Using cached nvidia_cusparse_cu12-12.1.0.106-py3-none-manylinux1_x86_64.whl (196.0 MB)\n",
            "Collecting nvidia-nccl-cu12==2.19.3 (from torch>=1.8.0->-r requirements.txt (line 15))\n",
            "  Using cached nvidia_nccl_cu12-2.19.3-py3-none-manylinux1_x86_64.whl (166.0 MB)\n",
            "Collecting nvidia-nvtx-cu12==12.1.105 (from torch>=1.8.0->-r requirements.txt (line 15))\n",
            "  Using cached nvidia_nvtx_cu12-12.1.105-py3-none-manylinux1_x86_64.whl (99 kB)\n",
            "Requirement already satisfied: triton==2.2.0 in /usr/local/lib/python3.10/dist-packages (from torch>=1.8.0->-r requirements.txt (line 15)) (2.2.0)\n",
            "Collecting nvidia-nvjitlink-cu12 (from nvidia-cusolver-cu12==11.4.5.107->torch>=1.8.0->-r requirements.txt (line 15))\n",
            "  Using cached nvidia_nvjitlink_cu12-12.4.127-py3-none-manylinux2014_x86_64.whl (21.1 MB)\n",
            "Requirement already satisfied: py-cpuinfo in /usr/local/lib/python3.10/dist-packages (from ultralytics>=8.0.232->-r requirements.txt (line 18)) (9.0.0)\n",
            "Requirement already satisfied: pytz>=2020.1 in /usr/local/lib/python3.10/dist-packages (from pandas>=1.1.4->-r requirements.txt (line 27)) (2023.4)\n",
            "Requirement already satisfied: tzdata>=2022.1 in /usr/local/lib/python3.10/dist-packages (from pandas>=1.1.4->-r requirements.txt (line 27)) (2024.1)\n",
            "Collecting smmap<6,>=3.0.1 (from gitdb<5,>=4.0.1->gitpython>=3.1.30->-r requirements.txt (line 5))\n",
            "  Downloading smmap-5.0.1-py3-none-any.whl (24 kB)\n",
            "Requirement already satisfied: six>=1.5 in /usr/local/lib/python3.10/dist-packages (from python-dateutil>=2.7->matplotlib>=3.3->-r requirements.txt (line 6)) (1.16.0)\n",
            "Requirement already satisfied: MarkupSafe>=2.0 in /usr/local/lib/python3.10/dist-packages (from jinja2->torch>=1.8.0->-r requirements.txt (line 15)) (2.1.5)\n",
            "Requirement already satisfied: mpmath>=0.19 in /usr/local/lib/python3.10/dist-packages (from sympy->torch>=1.8.0->-r requirements.txt (line 15)) (1.3.0)\n",
            "Installing collected packages: smmap, pillow, nvidia-nvtx-cu12, nvidia-nvjitlink-cu12, nvidia-nccl-cu12, nvidia-curand-cu12, nvidia-cufft-cu12, nvidia-cuda-runtime-cu12, nvidia-cuda-nvrtc-cu12, nvidia-cuda-cupti-cu12, nvidia-cublas-cu12, nvidia-cusparse-cu12, nvidia-cudnn-cu12, gitdb, nvidia-cusolver-cu12, gitpython, thop, ultralytics\n",
            "  Attempting uninstall: pillow\n",
            "    Found existing installation: Pillow 9.4.0\n",
            "    Uninstalling Pillow-9.4.0:\n",
            "      Successfully uninstalled Pillow-9.4.0\n",
            "\u001b[31mERROR: pip's dependency resolver does not currently take into account all the packages that are installed. This behaviour is the source of the following dependency conflicts.\n",
            "imageio 2.31.6 requires pillow<10.1.0,>=8.3.2, but you have pillow 10.3.0 which is incompatible.\u001b[0m\u001b[31m\n",
            "\u001b[0mSuccessfully installed gitdb-4.0.11 gitpython-3.1.43 nvidia-cublas-cu12-12.1.3.1 nvidia-cuda-cupti-cu12-12.1.105 nvidia-cuda-nvrtc-cu12-12.1.105 nvidia-cuda-runtime-cu12-12.1.105 nvidia-cudnn-cu12-8.9.2.26 nvidia-cufft-cu12-11.0.2.54 nvidia-curand-cu12-10.3.2.106 nvidia-cusolver-cu12-11.4.5.107 nvidia-cusparse-cu12-12.1.0.106 nvidia-nccl-cu12-2.19.3 nvidia-nvjitlink-cu12-12.4.127 nvidia-nvtx-cu12-12.1.105 pillow-10.3.0 smmap-5.0.1 thop-0.1.1.post2209072238 ultralytics-8.2.11\n"
          ]
        },
        {
          "data": {
            "application/vnd.colab-display-data+json": {
              "id": "8cf38f3375f141f7a0acdf226eac5a1c",
              "pip_warning": {
                "packages": [
                  "PIL"
                ]
              }
            }
          },
          "metadata": {},
          "output_type": "display_data"
        }
      ],
      "source": [
        "!git clone https://github.com/ultralytics/yolov5\n",
        "%cd /content/drive/MyDrive/last/yolov5\n",
        "!pip install -r requirements.txt"
      ]
    },
    {
      "cell_type": "markdown",
      "metadata": {},
      "source": [
        "## Install Roboflow for datasets"
      ]
    },
    {
      "cell_type": "code",
      "execution_count": null,
      "metadata": {
        "colab": {
          "base_uri": "https://localhost:8080/",
          "height": 1000
        },
        "id": "UmnXvKDIHRHZ",
        "outputId": "21520811-fdbe-4e65-ecb8-d8b6f9f8527a"
      },
      "outputs": [
        {
          "name": "stdout",
          "output_type": "stream",
          "text": [
            "Collecting roboflow\n",
            "  Using cached roboflow-1.1.28-py3-none-any.whl (74 kB)\n",
            "Collecting certifi==2023.7.22 (from roboflow)\n",
            "  Using cached certifi-2023.7.22-py3-none-any.whl (158 kB)\n",
            "Collecting chardet==4.0.0 (from roboflow)\n",
            "  Using cached chardet-4.0.0-py2.py3-none-any.whl (178 kB)\n",
            "Collecting cycler==0.10.0 (from roboflow)\n",
            "  Using cached cycler-0.10.0-py2.py3-none-any.whl (6.5 kB)\n",
            "Collecting idna==2.10 (from roboflow)\n",
            "  Using cached idna-2.10-py2.py3-none-any.whl (58 kB)\n",
            "Requirement already satisfied: kiwisolver>=1.3.1 in /usr/local/lib/python3.10/dist-packages (from roboflow) (1.4.5)\n",
            "Requirement already satisfied: matplotlib in /usr/local/lib/python3.10/dist-packages (from roboflow) (3.7.1)\n",
            "Requirement already satisfied: numpy>=1.18.5 in /usr/local/lib/python3.10/dist-packages (from roboflow) (1.25.2)\n",
            "Collecting opencv-python-headless==4.8.0.74 (from roboflow)\n",
            "  Using cached opencv_python_headless-4.8.0.74-cp37-abi3-manylinux_2_17_x86_64.manylinux2014_x86_64.whl (49.1 MB)\n",
            "Requirement already satisfied: Pillow>=7.1.2 in /usr/local/lib/python3.10/dist-packages (from roboflow) (10.3.0)\n",
            "Requirement already satisfied: python-dateutil in /usr/local/lib/python3.10/dist-packages (from roboflow) (2.8.2)\n",
            "Collecting python-dotenv (from roboflow)\n",
            "  Using cached python_dotenv-1.0.1-py3-none-any.whl (19 kB)\n",
            "Requirement already satisfied: requests in /usr/local/lib/python3.10/dist-packages (from roboflow) (2.31.0)\n",
            "Requirement already satisfied: six in /usr/local/lib/python3.10/dist-packages (from roboflow) (1.16.0)\n",
            "Requirement already satisfied: urllib3>=1.26.6 in /usr/local/lib/python3.10/dist-packages (from roboflow) (2.0.7)\n",
            "Requirement already satisfied: tqdm>=4.41.0 in /usr/local/lib/python3.10/dist-packages (from roboflow) (4.66.4)\n",
            "Requirement already satisfied: PyYAML>=5.3.1 in /usr/local/lib/python3.10/dist-packages (from roboflow) (6.0.1)\n",
            "Collecting requests-toolbelt (from roboflow)\n",
            "  Using cached requests_toolbelt-1.0.0-py2.py3-none-any.whl (54 kB)\n",
            "Collecting python-magic (from roboflow)\n",
            "  Using cached python_magic-0.4.27-py2.py3-none-any.whl (13 kB)\n",
            "Requirement already satisfied: contourpy>=1.0.1 in /usr/local/lib/python3.10/dist-packages (from matplotlib->roboflow) (1.2.1)\n",
            "Requirement already satisfied: fonttools>=4.22.0 in /usr/local/lib/python3.10/dist-packages (from matplotlib->roboflow) (4.51.0)\n",
            "Requirement already satisfied: packaging>=20.0 in /usr/local/lib/python3.10/dist-packages (from matplotlib->roboflow) (24.0)\n",
            "Requirement already satisfied: pyparsing>=2.3.1 in /usr/local/lib/python3.10/dist-packages (from matplotlib->roboflow) (3.1.2)\n",
            "Requirement already satisfied: charset-normalizer<4,>=2 in /usr/local/lib/python3.10/dist-packages (from requests->roboflow) (3.3.2)\n",
            "Installing collected packages: python-magic, python-dotenv, opencv-python-headless, idna, cycler, chardet, certifi, requests-toolbelt, roboflow\n",
            "  Attempting uninstall: opencv-python-headless\n",
            "    Found existing installation: opencv-python-headless 4.9.0.80\n",
            "    Uninstalling opencv-python-headless-4.9.0.80:\n",
            "      Successfully uninstalled opencv-python-headless-4.9.0.80\n",
            "  Attempting uninstall: idna\n",
            "    Found existing installation: idna 3.7\n",
            "    Uninstalling idna-3.7:\n",
            "      Successfully uninstalled idna-3.7\n",
            "  Attempting uninstall: cycler\n",
            "    Found existing installation: cycler 0.12.1\n",
            "    Uninstalling cycler-0.12.1:\n",
            "      Successfully uninstalled cycler-0.12.1\n",
            "  Attempting uninstall: chardet\n",
            "    Found existing installation: chardet 5.2.0\n",
            "    Uninstalling chardet-5.2.0:\n",
            "      Successfully uninstalled chardet-5.2.0\n",
            "  Attempting uninstall: certifi\n",
            "    Found existing installation: certifi 2024.2.2\n",
            "    Uninstalling certifi-2024.2.2:\n",
            "      Successfully uninstalled certifi-2024.2.2\n",
            "Successfully installed certifi-2023.7.22 chardet-4.0.0 cycler-0.10.0 idna-2.10 opencv-python-headless-4.8.0.74 python-dotenv-1.0.1 python-magic-0.4.27 requests-toolbelt-1.0.0 roboflow-1.1.28\n"
          ]
        },
        {
          "data": {
            "application/vnd.colab-display-data+json": {
              "id": "89322feff7ec49c0afe7d64496faf25f",
              "pip_warning": {
                "packages": [
                  "certifi",
                  "cycler"
                ]
              }
            }
          },
          "metadata": {},
          "output_type": "display_data"
        }
      ],
      "source": [
        "!pip install roboflow"
      ]
    },
    {
      "cell_type": "markdown",
      "metadata": {},
      "source": [
        "### Datasets for 6 classes"
      ]
    },
    {
      "cell_type": "code",
      "execution_count": null,
      "metadata": {
        "colab": {
          "base_uri": "https://localhost:8080/"
        },
        "id": "z2d4AMmgyQPC",
        "outputId": "ab3cf795-5d55-48ce-dc1f-d8cc08bd47a5"
      },
      "outputs": [
        {
          "name": "stdout",
          "output_type": "stream",
          "text": [
            "/content/drive/MyDrive/last\n",
            "loading Roboflow workspace...\n",
            "loading Roboflow project...\n"
          ]
        },
        {
          "name": "stderr",
          "output_type": "stream",
          "text": [
            "Downloading Dataset Version Zip in waste-segregation-3 to yolov5pytorch:: 100%|██████████| 284988/284988 [00:28<00:00, 10100.34it/s]"
          ]
        },
        {
          "name": "stdout",
          "output_type": "stream",
          "text": [
            "\n"
          ]
        },
        {
          "name": "stderr",
          "output_type": "stream",
          "text": [
            "\n",
            "Extracting Dataset Version Zip to waste-segregation-3 in yolov5pytorch:: 100%|██████████| 11646/11646 [01:34<00:00, 122.85it/s]\n"
          ]
        }
      ],
      "source": [
        "%cd /content/drive/MyDrive/last/\n",
        "from roboflow import Roboflow\n",
        "rf = Roboflow(api_key=\"YOUR_API_KEY\")\n",
        "project = rf.workspace(\"dark-mqa4m\").project(\"waste-segregation-3ykjs\")\n",
        "version = project.version(3)\n",
        "dataset = version.download(\"yolov5\")"
      ]
    },
    {
      "cell_type": "markdown",
      "metadata": {},
      "source": [
        "### Dataset for wet and dry"
      ]
    },
    {
      "cell_type": "code",
      "execution_count": null,
      "metadata": {
        "colab": {
          "base_uri": "https://localhost:8080/"
        },
        "id": "zFbZjq4ly1oT",
        "outputId": "663b065a-4b25-41c8-e12e-63a50a302bc6"
      },
      "outputs": [
        {
          "name": "stdout",
          "output_type": "stream",
          "text": [
            "/content/drive/MyDrive/last\n",
            "loading Roboflow workspace...\n",
            "loading Roboflow project...\n"
          ]
        },
        {
          "name": "stderr",
          "output_type": "stream",
          "text": [
            "Downloading Dataset Version Zip in Dry-waste-and-Wet-waste--1 to yolov5pytorch:: 100%|██████████| 403704/403704 [00:39<00:00, 10315.29it/s]"
          ]
        },
        {
          "name": "stdout",
          "output_type": "stream",
          "text": [
            "\n"
          ]
        },
        {
          "name": "stderr",
          "output_type": "stream",
          "text": [
            "\n",
            "Extracting Dataset Version Zip to Dry-waste-and-Wet-waste--1 in yolov5pytorch:: 100%|██████████| 17960/17960 [02:31<00:00, 118.75it/s]\n"
          ]
        }
      ],
      "source": [
        "%cd /content/drive/MyDrive/last/\n",
        "from roboflow import Roboflow\n",
        "rf = Roboflow(api_key=\"YOUR_API_KEY\")\n",
        "project = rf.workspace(\"group7-9w9se\").project(\"dry-waste-and-wet-waste\")\n",
        "version = project.version(1)\n",
        "dataset = version.download(\"yolov5\")"
      ]
    },
    {
      "cell_type": "markdown",
      "metadata": {},
      "source": [
        "## Segregate dataset based on classes for wet and dry"
      ]
    },
    {
      "cell_type": "code",
      "execution_count": null,
      "metadata": {
        "id": "YXYq3NXL0TN0"
      },
      "outputs": [],
      "source": [
        "import os\n",
        "import shutil\n",
        "\n",
        "def sort_dataset(images_dir,labels_dir,c_0_img,c_0_lab,c_1_img,c_1_lab):\n",
        "\n",
        "    os.makedirs(c_0_img, exist_ok=True)\n",
        "    os.makedirs(c_0_lab, exist_ok=True)\n",
        "    os.makedirs(c_1_img, exist_ok=True)\n",
        "    os.makedirs(c_1_lab, exist_ok=True)\n",
        "\n",
        "    for filename in os.listdir(images_dir):\n",
        "        if filename.endswith(\".jpg\"):  # Assuming images are JPEG format\n",
        "            image_path = os.path.join(images_dir, filename)\n",
        "            label_path = os.path.join(labels_dir, filename[:-4] + \".txt\")\n",
        "\n",
        "            # Read the annotation file\n",
        "            with open(label_path, 'r') as file:\n",
        "                annotations = file.readlines()\n",
        "\n",
        "            # Check the class in annotations and move the image and label accordingly\n",
        "            for annotation in annotations:\n",
        "                class_id = int(annotation.split()[0])\n",
        "                if class_id == 0:\n",
        "                    shutil.copy(image_path, os.path.join(c_0_img, filename))\n",
        "                    shutil.copy(label_path, os.path.join(c_0_lab, filename[:-4] + \".txt\"))\n",
        "                elif class_id == 1:\n",
        "                    # Change class id to 6\n",
        "                    annotation = '6' + annotation[1:]\n",
        "                    # Save modified annotation to a new file\n",
        "                    new_label_path = os.path.join(c_1_lab, filename[:-4] + \".txt\")\n",
        "                    with open(new_label_path, 'a') as new_file:\n",
        "                        new_file.write(annotation)\n",
        "                    shutil.copy(image_path, os.path.join(c_1_img, filename))\n",
        "\n",
        "\n",
        "sort_dataset(\n",
        "    images_dir=r\"/content/drive/MyDrive/last/Dry-waste-and-Wet-waste--1/train/images\",\n",
        "    labels_dir=r\"/content/drive/MyDrive/last/Dry-waste-and-Wet-waste--1/train/labels\",\n",
        "    c_0_img=r\"/content/drive/MyDrive/last/Dry-waste-and-Wet-waste--1/class_0/images\",\n",
        "    c_0_lab=r\"/content/drive/MyDrive/last/Dry-waste-and-Wet-waste--1/class_0/labels\",\n",
        "    c_1_img=r\"/content/drive/MyDrive/last/Dry-waste-and-Wet-waste--1/train_1/images\",\n",
        "    c_1_lab=r\"/content/drive/MyDrive/last/Dry-waste-and-Wet-waste--1/train_1/labels\"\n",
        ")\n",
        "\n",
        "\n",
        "\n",
        "sort_dataset(\n",
        "    images_dir=r\"/content/drive/MyDrive/last/Dry-waste-and-Wet-waste--1/valid/images\",\n",
        "    labels_dir=r\"/content/drive/MyDrive/last/Dry-waste-and-Wet-waste--1/valid/labels\",\n",
        "    c_0_img=r\"/content/drive/MyDrive/last/Dry-waste-and-Wet-waste--1/class_0/images\",\n",
        "    c_0_lab=r\"/content/drive/MyDrive/last/Dry-waste-and-Wet-waste--1/class_0/labels\",\n",
        "    c_1_img=r\"/content/drive/MyDrive/last/Dry-waste-and-Wet-waste--1/valid_1/images\",\n",
        "    c_1_lab=r\"/content/drive/MyDrive/last/Dry-waste-and-Wet-waste--1/valid_1/labels\"\n",
        ")\n",
        "\n"
      ]
    },
    {
      "cell_type": "code",
      "execution_count": null,
      "metadata": {
        "colab": {
          "base_uri": "https://localhost:8080/"
        },
        "id": "OCH4br-P_eZw",
        "outputId": "30580e35-dc5f-444c-c340-cab19cf8a3b0"
      },
      "outputs": [
        {
          "name": "stdout",
          "output_type": "stream",
          "text": [
            "/content/drive/MyDrive/last/Dry-waste-and-Wet-waste--1/train_1/images\n",
            "3718\n",
            "/content/drive/MyDrive/last/Dry-waste-and-Wet-waste--1/train_1/labels\n",
            "3718\n",
            "/content/drive/MyDrive/last/Dry-waste-and-Wet-waste--1/valid_1/images\n",
            "280\n",
            "/content/drive/MyDrive/last/Dry-waste-and-Wet-waste--1/valid_1/labels\n",
            "280\n"
          ]
        }
      ],
      "source": [
        "%cd /content/drive/MyDrive/last/Dry-waste-and-Wet-waste--1/train_1/images/\n",
        "%ls -l | wc -l\n",
        "%cd /content/drive/MyDrive/last/Dry-waste-and-Wet-waste--1/train_1/labels/\n",
        "%ls -l | wc -l\n",
        "%cd /content/drive/MyDrive/last/Dry-waste-and-Wet-waste--1/valid_1/images/\n",
        "%ls -l | wc -l\n",
        "%cd /content/drive/MyDrive/last/Dry-waste-and-Wet-waste--1/valid_1/labels/\n",
        "%ls -l | wc -l"
      ]
    },
    {
      "cell_type": "markdown",
      "metadata": {},
      "source": [
        "## Merge the dataset to add additional wet waste class"
      ]
    },
    {
      "cell_type": "code",
      "execution_count": null,
      "metadata": {
        "id": "_DE2AvOuFP8P"
      },
      "outputs": [],
      "source": [
        "import os\n",
        "import random\n",
        "import shutil\n",
        "\n",
        "# Define the directories containing images and labels\n",
        "images_dir = \"/content/drive/MyDrive/last/Dry-waste-and-Wet-waste--1/train_1/images/\"\n",
        "labels_dir = \"/content/drive/MyDrive/last/Dry-waste-and-Wet-waste--1/train_1/labels/\"\n",
        "\n",
        "# Define the output directories for the reduced dataset\n",
        "output_images_dir = \"/content/drive/MyDrive/last/Dry-waste-and-Wet-waste--1/final_train_1/images/\"\n",
        "output_labels_dir = \"/content/drive/MyDrive/last/Dry-waste-and-Wet-waste--1/final_train_1/labels/\"\n",
        "\n",
        "# Create the output directories if they don't exist\n",
        "os.makedirs(output_images_dir, exist_ok=True)\n",
        "os.makedirs(output_labels_dir, exist_ok=True)\n",
        "\n",
        "# Get list of image and label files\n",
        "image_files = os.listdir(images_dir)\n",
        "label_files = os.listdir(labels_dir)\n",
        "\n",
        "# Shuffle the files to randomly select samples\n",
        "random.shuffle(image_files)\n",
        "\n",
        "# Select first 1000 samples\n",
        "selected_files = image_files[:1000]\n",
        "\n",
        "# Copy selected images and corresponding labels to the output directories\n",
        "for filename in selected_files:\n",
        "    image_path = os.path.join(images_dir, filename)\n",
        "    label_filename = os.path.splitext(filename)[0] + \".txt\"\n",
        "    label_path = os.path.join(labels_dir, label_filename)\n",
        "\n",
        "    output_image_path = os.path.join(output_images_dir, filename)\n",
        "    output_label_path = os.path.join(output_labels_dir, label_filename)\n",
        "\n",
        "    shutil.copy(image_path, output_image_path)\n",
        "    shutil.copy(label_path, output_label_path)\n"
      ]
    },
    {
      "cell_type": "code",
      "execution_count": null,
      "metadata": {
        "id": "81j934HcFSk6"
      },
      "outputs": [],
      "source": [
        "%cd /content/drive/MyDrive/last/Dry-waste-and-Wet-waste--1/final_train_1/images/\n",
        "%ls -l | wc -l\n",
        "%cd /content/drive/MyDrive/last/Dry-waste-and-Wet-waste--1/final_train_1/labels/\n",
        "%ls -l | wc -l\n",
        "%cd /content/drive/MyDrive/last/Dry-waste-and-Wet-waste--1/train_1/images/\n",
        "%ls -l | wc -l\n",
        "%cd /content/drive/MyDrive/last/Dry-waste-and-Wet-waste--1/train_1/labels/\n",
        "%ls -l | wc -l\n",
        "%cd /content/drive/MyDrive/last/Dry-waste-and-Wet-waste--1/valid_1/images/\n",
        "%ls -l | wc -l\n",
        "%cd /content/drive/MyDrive/last/Dry-waste-and-Wet-waste--1/valid_1/labels/\n",
        "%ls -l | wc -l"
      ]
    },
    {
      "cell_type": "code",
      "execution_count": null,
      "metadata": {
        "id": "V2OlMHXk4CgM"
      },
      "outputs": [],
      "source": [
        "%cd /content/drive/MyDrive/last/waste-segregation-3/train/images/\n",
        "%rm glass*\n",
        "%rm spray_cans*\n",
        "%cd /content/drive/MyDrive/last/waste-segregation-3/train/labels/\n",
        "%rm glass*\n",
        "%rm spray_cans*"
      ]
    },
    {
      "cell_type": "code",
      "execution_count": null,
      "metadata": {
        "colab": {
          "base_uri": "https://localhost:8080/"
        },
        "id": "hY40bJeo4UGk",
        "outputId": "4373a0d8-2131-4900-803d-57b0804d373b"
      },
      "outputs": [
        {
          "name": "stdout",
          "output_type": "stream",
          "text": [
            "/content/drive/MyDrive/last/waste-segregation-3/train/images\n",
            "2909\n",
            "/content/drive/MyDrive/last/waste-segregation-3/train/labels\n",
            "2909\n"
          ]
        }
      ],
      "source": [
        "%cd /content/drive/MyDrive/last/waste-segregation-3/train/images/\n",
        "%ls -l | wc -l\n",
        "%cd /content/drive/MyDrive/last/waste-segregation-3/train/labels/\n",
        "%ls -l | wc -l"
      ]
    },
    {
      "cell_type": "code",
      "execution_count": null,
      "metadata": {
        "id": "WaWltuTy4Sdk"
      },
      "outputs": [],
      "source": [
        "%cp /content/drive/MyDrive/last/Dry-waste-and-Wet-waste--1/final_train_1/images/* /content/drive/MyDrive/last/waste-segregation-3/train/images/\n",
        "%cp /content/drive/MyDrive/last/Dry-waste-and-Wet-waste--1/final_train_1/labels/* /content/drive/MyDrive/last/waste-segregation-3/train/labels/"
      ]
    },
    {
      "cell_type": "code",
      "execution_count": null,
      "metadata": {
        "id": "nJocHhUz5d9z"
      },
      "outputs": [],
      "source": [
        "%cd /content/drive/MyDrive/last/waste-segregation-3/train/images/\n",
        "%ls -l | wc -l\n",
        "%cd /content/drive/MyDrive/last/waste-segregation-3/train/labels/\n",
        "%ls -l | wc -l"
      ]
    },
    {
      "cell_type": "code",
      "execution_count": null,
      "metadata": {
        "id": "0e039_bmCHbE"
      },
      "outputs": [],
      "source": [
        "%cp /content/drive/MyDrive/last/Dry-waste-and-Wet-waste--1/valid_1/images/* /content/drive/MyDrive/last/waste-segregation-3/valid/images/\n",
        "%cp /content/drive/MyDrive/last/Dry-waste-and-Wet-waste--1/valid_1/labels/* /content/drive/MyDrive/last/waste-segregation-3/valid/labels/"
      ]
    },
    {
      "cell_type": "code",
      "execution_count": null,
      "metadata": {
        "id": "2fAoTWDACbpP"
      },
      "outputs": [],
      "source": [
        "%cd /content/drive/MyDrive/last/waste-segregation-3/valid/images/\n",
        "%ls -l | wc -l\n",
        "%cd /content/drive/MyDrive/last/waste-segregation-3/valid/labels/\n",
        "%ls -l | wc -l"
      ]
    },
    {
      "cell_type": "markdown",
      "metadata": {
        "id": "vLID0EW95gHI"
      },
      "source": [
        "## EDIT data.yaml file"
      ]
    },
    {
      "cell_type": "code",
      "execution_count": null,
      "metadata": {
        "id": "GeSrFAri-LYR"
      },
      "outputs": [],
      "source": [
        "# names: [\"Cardboard\",\"Glass\",\"Metal\",\"Paper\",\"Plastic\",\"Thermocol\",\"Wet Waste\"]\n",
        "\n",
        "# nc: 7\n",
        "\n",
        "# train: /content/drive/MyDrive/last/waste-segregation-3/train/images\n",
        "# val: /content/drive/MyDrive/last/waste-segregation-3/valid/images\n"
      ]
    },
    {
      "cell_type": "code",
      "execution_count": null,
      "metadata": {
        "colab": {
          "base_uri": "https://localhost:8080/"
        },
        "id": "DY_94AcA9oaM",
        "outputId": "4cbe420c-4e71-42ca-b03b-0b4eabf300df"
      },
      "outputs": [
        {
          "name": "stdout",
          "output_type": "stream",
          "text": [
            "/content/drive/MyDrive/last/Dry-waste-and-Wet-waste--1/train_1/images\n",
            "3718\n",
            "/content/drive/MyDrive/last/Dry-waste-and-Wet-waste--1/train_1/labels\n",
            "3718\n"
          ]
        }
      ],
      "source": [
        "%cd /content/drive/MyDrive/last/Dry-waste-and-Wet-waste--1/train_1/images/\n",
        "%ls -l | wc -l\n",
        "%cd /content/drive/MyDrive/last/Dry-waste-and-Wet-waste--1/train_1/labels/\n",
        "%ls -l | wc -l"
      ]
    },
    {
      "cell_type": "markdown",
      "metadata": {},
      "source": [
        "## Make sure cuda is available"
      ]
    },
    {
      "cell_type": "code",
      "execution_count": null,
      "metadata": {
        "colab": {
          "base_uri": "https://localhost:8080/"
        },
        "id": "4KgBxuMjyzAK",
        "outputId": "534088af-6eba-44b8-b22f-649b3290027f"
      },
      "outputs": [
        {
          "data": {
            "text/plain": [
              "True"
            ]
          },
          "execution_count": 15,
          "metadata": {},
          "output_type": "execute_result"
        }
      ],
      "source": [
        "import torch\n",
        "torch.cuda.is_available()"
      ]
    },
    {
      "cell_type": "markdown",
      "metadata": {},
      "source": [
        "## Start training by passing required arguments"
      ]
    },
    {
      "cell_type": "code",
      "execution_count": null,
      "metadata": {
        "colab": {
          "base_uri": "https://localhost:8080/"
        },
        "id": "u_Wr9bClyZWz",
        "outputId": "d4cd8ded-8409-4e97-e633-f5257305e599"
      },
      "outputs": [
        {
          "name": "stdout",
          "output_type": "stream",
          "text": [
            "/content/drive/MyDrive/last/yolov5\n",
            "2024-05-09 16:25:10.726369: E external/local_xla/xla/stream_executor/cuda/cuda_dnn.cc:9261] Unable to register cuDNN factory: Attempting to register factory for plugin cuDNN when one has already been registered\n",
            "2024-05-09 16:25:10.726442: E external/local_xla/xla/stream_executor/cuda/cuda_fft.cc:607] Unable to register cuFFT factory: Attempting to register factory for plugin cuFFT when one has already been registered\n",
            "2024-05-09 16:25:10.847865: E external/local_xla/xla/stream_executor/cuda/cuda_blas.cc:1515] Unable to register cuBLAS factory: Attempting to register factory for plugin cuBLAS when one has already been registered\n",
            "\u001b[34m\u001b[1mtrain: \u001b[0mweights=yolov5m.pt, cfg=, data=/content/drive/MyDrive/last/waste-segregation-3/data.yaml, hyp=data/hyps/hyp.scratch-low.yaml, epochs=30, batch_size=16, imgsz=640, rect=False, resume=False, nosave=False, noval=False, noautoanchor=False, noplots=False, evolve=None, evolve_population=data/hyps, resume_evolve=None, bucket=, cache=None, image_weights=False, device=, multi_scale=False, single_cls=False, optimizer=SGD, sync_bn=False, workers=8, project=runs/train, name=exp, exist_ok=False, quad=False, cos_lr=False, label_smoothing=0.0, patience=100, freeze=[0], save_period=-1, seed=0, local_rank=-1, entity=None, upload_dataset=False, bbox_interval=-1, artifact_alias=latest, ndjson_console=False, ndjson_file=False\n",
            "\u001b[34m\u001b[1mgithub: \u001b[0mup to date with https://github.com/ultralytics/yolov5 ✅\n",
            "YOLOv5 🚀 v7.0-307-g920c721e Python-3.10.12 torch-2.2.1+cu121 CUDA:0 (Tesla T4, 15102MiB)\n",
            "\n",
            "\u001b[34m\u001b[1mhyperparameters: \u001b[0mlr0=0.01, lrf=0.01, momentum=0.937, weight_decay=0.0005, warmup_epochs=3.0, warmup_momentum=0.8, warmup_bias_lr=0.1, box=0.05, cls=0.5, cls_pw=1.0, obj=1.0, obj_pw=1.0, iou_t=0.2, anchor_t=4.0, fl_gamma=0.0, hsv_h=0.015, hsv_s=0.7, hsv_v=0.4, degrees=0.0, translate=0.1, scale=0.5, shear=0.0, perspective=0.0, flipud=0.0, fliplr=0.5, mosaic=1.0, mixup=0.0, copy_paste=0.0\n",
            "\u001b[34m\u001b[1mComet: \u001b[0mrun 'pip install comet_ml' to automatically track and visualize YOLOv5 🚀 runs in Comet\n",
            "\u001b[34m\u001b[1mTensorBoard: \u001b[0mStart with 'tensorboard --logdir runs/train', view at http://localhost:6006/\n",
            "Downloading https://ultralytics.com/assets/Arial.ttf to /root/.config/Ultralytics/Arial.ttf...\n",
            "100% 755k/755k [00:00<00:00, 100MB/s]\n",
            "Downloading https://github.com/ultralytics/yolov5/releases/download/v7.0/yolov5m.pt to yolov5m.pt...\n",
            "100% 40.8M/40.8M [00:00<00:00, 171MB/s]\n",
            "\n",
            "Overriding model.yaml nc=80 with nc=7\n",
            "\n",
            "                 from  n    params  module                                  arguments                     \n",
            "  0                -1  1      5280  models.common.Conv                      [3, 48, 6, 2, 2]              \n",
            "  1                -1  1     41664  models.common.Conv                      [48, 96, 3, 2]                \n",
            "  2                -1  2     65280  models.common.C3                        [96, 96, 2]                   \n",
            "  3                -1  1    166272  models.common.Conv                      [96, 192, 3, 2]               \n",
            "  4                -1  4    444672  models.common.C3                        [192, 192, 4]                 \n",
            "  5                -1  1    664320  models.common.Conv                      [192, 384, 3, 2]              \n",
            "  6                -1  6   2512896  models.common.C3                        [384, 384, 6]                 \n",
            "  7                -1  1   2655744  models.common.Conv                      [384, 768, 3, 2]              \n",
            "  8                -1  2   4134912  models.common.C3                        [768, 768, 2]                 \n",
            "  9                -1  1   1476864  models.common.SPPF                      [768, 768, 5]                 \n",
            " 10                -1  1    295680  models.common.Conv                      [768, 384, 1, 1]              \n",
            " 11                -1  1         0  torch.nn.modules.upsampling.Upsample    [None, 2, 'nearest']          \n",
            " 12           [-1, 6]  1         0  models.common.Concat                    [1]                           \n",
            " 13                -1  2   1182720  models.common.C3                        [768, 384, 2, False]          \n",
            " 14                -1  1     74112  models.common.Conv                      [384, 192, 1, 1]              \n",
            " 15                -1  1         0  torch.nn.modules.upsampling.Upsample    [None, 2, 'nearest']          \n",
            " 16           [-1, 4]  1         0  models.common.Concat                    [1]                           \n",
            " 17                -1  2    296448  models.common.C3                        [384, 192, 2, False]          \n",
            " 18                -1  1    332160  models.common.Conv                      [192, 192, 3, 2]              \n",
            " 19          [-1, 14]  1         0  models.common.Concat                    [1]                           \n",
            " 20                -1  2   1035264  models.common.C3                        [384, 384, 2, False]          \n",
            " 21                -1  1   1327872  models.common.Conv                      [384, 384, 3, 2]              \n",
            " 22          [-1, 10]  1         0  models.common.Concat                    [1]                           \n",
            " 23                -1  2   4134912  models.common.C3                        [768, 768, 2, False]          \n",
            " 24      [17, 20, 23]  1     48492  models.yolo.Detect                      [7, [[10, 13, 16, 30, 33, 23], [30, 61, 62, 45, 59, 119], [116, 90, 156, 198, 373, 326]], [192, 384, 768]]\n",
            "Model summary: 291 layers, 20895564 parameters, 20895564 gradients, 48.3 GFLOPs\n",
            "\n",
            "Transferred 475/481 items from yolov5m.pt\n",
            "\u001b[34m\u001b[1mAMP: \u001b[0mchecks passed ✅\n",
            "\u001b[34m\u001b[1moptimizer:\u001b[0m SGD(lr=0.01) with parameter groups 79 weight(decay=0.0), 82 weight(decay=0.0005), 82 bias\n",
            "\u001b[34m\u001b[1malbumentations: \u001b[0mBlur(p=0.01, blur_limit=(3, 7)), MedianBlur(p=0.01, blur_limit=(3, 7)), ToGray(p=0.01), CLAHE(p=0.01, clip_limit=(1, 4.0), tile_grid_size=(8, 8))\n",
            "/usr/lib/python3.10/multiprocessing/popen_fork.py:66: RuntimeWarning: os.fork() was called. os.fork() is incompatible with multithreaded code, and JAX is multithreaded, so this will likely lead to a deadlock.\n",
            "  self.pid = os.fork()\n",
            "\u001b[34m\u001b[1mtrain: \u001b[0mScanning /content/drive/MyDrive/last/waste-segregation-3/train/labels... 3908 images, 0 backgrounds, 0 corrupt: 100% 3908/3908 [01:28<00:00, 43.92it/s] \n",
            "\u001b[34m\u001b[1mtrain: \u001b[0mNew cache created: /content/drive/MyDrive/last/waste-segregation-3/train/labels.cache\n",
            "\u001b[34m\u001b[1mval: \u001b[0mScanning /content/drive/MyDrive/last/waste-segregation-3/valid/labels... 1452 images, 0 backgrounds, 0 corrupt: 100% 1452/1452 [00:29<00:00, 48.40it/s]\n",
            "\u001b[34m\u001b[1mval: \u001b[0mNew cache created: /content/drive/MyDrive/last/waste-segregation-3/valid/labels.cache\n",
            "\n",
            "\u001b[34m\u001b[1mAutoAnchor: \u001b[0m3.66 anchors/target, 1.000 Best Possible Recall (BPR). Current anchors are a good fit to dataset ✅\n",
            "Plotting labels to runs/train/exp/labels.jpg... \n",
            "Image sizes 640 train, 640 val\n",
            "Using 2 dataloader workers\n",
            "Logging results to \u001b[1mruns/train/exp\u001b[0m\n",
            "Starting training for 30 epochs...\n",
            "\n",
            "      Epoch    GPU_mem   box_loss   obj_loss   cls_loss  Instances       Size\n",
            "       0/29      6.14G    0.06928    0.03139    0.04639         17        640: 100% 245/245 [03:36<00:00,  1.13it/s]\n",
            "                 Class     Images  Instances          P          R      mAP50   mAP50-95: 100% 46/46 [00:33<00:00,  1.36it/s]\n",
            "                   all       1452       2580      0.489       0.32      0.227      0.121\n",
            "\n",
            "      Epoch    GPU_mem   box_loss   obj_loss   cls_loss  Instances       Size\n",
            "       1/29      7.36G    0.04703    0.02545    0.03089         13        640: 100% 245/245 [03:27<00:00,  1.18it/s]\n",
            "                 Class     Images  Instances          P          R      mAP50   mAP50-95: 100% 46/46 [00:48<00:00,  1.05s/it]\n",
            "                   all       1452       2580      0.547      0.342      0.278      0.163\n",
            "\n",
            "      Epoch    GPU_mem   box_loss   obj_loss   cls_loss  Instances       Size\n",
            "       2/29      7.36G    0.04417    0.02467    0.02657          4        640: 100% 245/245 [03:24<00:00,  1.20it/s]\n",
            "                 Class     Images  Instances          P          R      mAP50   mAP50-95: 100% 46/46 [00:35<00:00,  1.31it/s]\n",
            "                   all       1452       2580      0.642      0.332      0.327      0.196\n",
            "\n",
            "      Epoch    GPU_mem   box_loss   obj_loss   cls_loss  Instances       Size\n",
            "       3/29      7.38G    0.04187    0.02553    0.02506         17        640: 100% 245/245 [03:26<00:00,  1.18it/s]\n",
            "                 Class     Images  Instances          P          R      mAP50   mAP50-95: 100% 46/46 [00:32<00:00,  1.40it/s]\n",
            "                   all       1452       2580      0.575      0.348      0.299      0.189\n",
            "\n",
            "      Epoch    GPU_mem   box_loss   obj_loss   cls_loss  Instances       Size\n",
            "       4/29      7.38G    0.04002    0.02567    0.02513         15        640: 100% 245/245 [03:28<00:00,  1.17it/s]\n",
            "                 Class     Images  Instances          P          R      mAP50   mAP50-95: 100% 46/46 [00:32<00:00,  1.40it/s]\n",
            "                   all       1452       2580      0.615      0.358      0.341      0.217\n",
            "\n",
            "      Epoch    GPU_mem   box_loss   obj_loss   cls_loss  Instances       Size\n",
            "       5/29      7.38G    0.03882    0.02519      0.024         23        640: 100% 245/245 [03:24<00:00,  1.20it/s]\n",
            "                 Class     Images  Instances          P          R      mAP50   mAP50-95: 100% 46/46 [00:35<00:00,  1.31it/s]\n",
            "                   all       1452       2580      0.628       0.32      0.325      0.207\n",
            "\n",
            "      Epoch    GPU_mem   box_loss   obj_loss   cls_loss  Instances       Size\n",
            "       6/29      7.38G     0.0376    0.02469     0.0226         12        640: 100% 245/245 [03:31<00:00,  1.16it/s]\n",
            "                 Class     Images  Instances          P          R      mAP50   mAP50-95: 100% 46/46 [00:32<00:00,  1.40it/s]\n",
            "                   all       1452       2580      0.622      0.364      0.356      0.231\n",
            "\n",
            "      Epoch    GPU_mem   box_loss   obj_loss   cls_loss  Instances       Size\n",
            "       7/29      7.38G    0.03631    0.02467    0.02144          8        640: 100% 245/245 [03:33<00:00,  1.15it/s]\n",
            "                 Class     Images  Instances          P          R      mAP50   mAP50-95: 100% 46/46 [00:34<00:00,  1.33it/s]\n",
            "                   all       1452       2580      0.616      0.374      0.368      0.256\n",
            "\n",
            "      Epoch    GPU_mem   box_loss   obj_loss   cls_loss  Instances       Size\n",
            "       8/29      7.38G    0.03523    0.02395    0.01957         10        640: 100% 245/245 [03:32<00:00,  1.15it/s]\n",
            "                 Class     Images  Instances          P          R      mAP50   mAP50-95: 100% 46/46 [00:31<00:00,  1.48it/s]\n",
            "                   all       1452       2580      0.637      0.371      0.378      0.257\n",
            "\n",
            "      Epoch    GPU_mem   box_loss   obj_loss   cls_loss  Instances       Size\n",
            "       9/29      7.38G    0.03433    0.02346    0.01897         11        640: 100% 245/245 [03:28<00:00,  1.17it/s]\n",
            "                 Class     Images  Instances          P          R      mAP50   mAP50-95: 100% 46/46 [00:34<00:00,  1.34it/s]\n",
            "                   all       1452       2580      0.686      0.383      0.422      0.296\n",
            "\n",
            "      Epoch    GPU_mem   box_loss   obj_loss   cls_loss  Instances       Size\n",
            "      10/29      7.38G    0.03331    0.02339    0.01875         36        640: 100% 245/245 [03:27<00:00,  1.18it/s]\n",
            "                 Class     Images  Instances          P          R      mAP50   mAP50-95: 100% 46/46 [00:36<00:00,  1.27it/s]\n",
            "                   all       1452       2580      0.645      0.385      0.407       0.29\n",
            "\n",
            "      Epoch    GPU_mem   box_loss   obj_loss   cls_loss  Instances       Size\n",
            "      11/29      7.38G    0.03254    0.02264    0.01755         25        640: 100% 245/245 [03:24<00:00,  1.20it/s]\n",
            "                 Class     Images  Instances          P          R      mAP50   mAP50-95: 100% 46/46 [00:37<00:00,  1.24it/s]\n",
            "                   all       1452       2580      0.577      0.456      0.425      0.306\n",
            "\n",
            "      Epoch    GPU_mem   box_loss   obj_loss   cls_loss  Instances       Size\n",
            "      12/29      7.38G    0.03209    0.02223    0.01681         18        640: 100% 245/245 [03:27<00:00,  1.18it/s]\n",
            "                 Class     Images  Instances          P          R      mAP50   mAP50-95: 100% 46/46 [00:32<00:00,  1.43it/s]\n",
            "                   all       1452       2580      0.647      0.465      0.451      0.322\n",
            "\n",
            "      Epoch    GPU_mem   box_loss   obj_loss   cls_loss  Instances       Size\n",
            "      13/29      7.38G    0.03118    0.02248    0.01577         15        640: 100% 245/245 [03:27<00:00,  1.18it/s]\n",
            "                 Class     Images  Instances          P          R      mAP50   mAP50-95: 100% 46/46 [00:33<00:00,  1.36it/s]\n",
            "                   all       1452       2580      0.678      0.433      0.449      0.327\n",
            "\n",
            "      Epoch    GPU_mem   box_loss   obj_loss   cls_loss  Instances       Size\n",
            "      14/29      7.38G     0.0306    0.02237    0.01506         23        640: 100% 245/245 [03:28<00:00,  1.18it/s]\n",
            "                 Class     Images  Instances          P          R      mAP50   mAP50-95: 100% 46/46 [00:32<00:00,  1.40it/s]\n",
            "                   all       1452       2580      0.696      0.395      0.431      0.313\n",
            "\n",
            "      Epoch    GPU_mem   box_loss   obj_loss   cls_loss  Instances       Size\n",
            "      15/29      7.38G     0.0299    0.02173    0.01347          6        640: 100% 245/245 [03:31<00:00,  1.16it/s]\n",
            "                 Class     Images  Instances          P          R      mAP50   mAP50-95: 100% 46/46 [00:32<00:00,  1.41it/s]\n",
            "                   all       1452       2580      0.626       0.45      0.471      0.345\n",
            "\n",
            "      Epoch    GPU_mem   box_loss   obj_loss   cls_loss  Instances       Size\n",
            "      16/29      7.38G    0.02902     0.0209    0.01305         17        640: 100% 245/245 [03:25<00:00,  1.19it/s]\n",
            "                 Class     Images  Instances          P          R      mAP50   mAP50-95: 100% 46/46 [00:34<00:00,  1.33it/s]\n",
            "                   all       1452       2580      0.633      0.472      0.486      0.366\n",
            "\n",
            "      Epoch    GPU_mem   box_loss   obj_loss   cls_loss  Instances       Size\n",
            "      17/29      7.38G    0.02843    0.02039    0.01204         25        640: 100% 245/245 [03:30<00:00,  1.16it/s]\n",
            "                 Class     Images  Instances          P          R      mAP50   mAP50-95: 100% 46/46 [00:31<00:00,  1.46it/s]\n",
            "                   all       1452       2580      0.538      0.454      0.445      0.328\n",
            "\n",
            "      Epoch    GPU_mem   box_loss   obj_loss   cls_loss  Instances       Size\n",
            "      18/29      7.38G    0.02812     0.0208    0.01147         11        640: 100% 245/245 [03:29<00:00,  1.17it/s]\n",
            "                 Class     Images  Instances          P          R      mAP50   mAP50-95: 100% 46/46 [00:34<00:00,  1.35it/s]\n",
            "                   all       1452       2580      0.486      0.469      0.475      0.362\n",
            "\n",
            "      Epoch    GPU_mem   box_loss   obj_loss   cls_loss  Instances       Size\n",
            "      19/29      7.38G    0.02751    0.02016     0.0108         11        640: 100% 245/245 [03:34<00:00,  1.14it/s]\n",
            "                 Class     Images  Instances          P          R      mAP50   mAP50-95: 100% 46/46 [00:34<00:00,  1.31it/s]\n",
            "                   all       1452       2580      0.531      0.446      0.472      0.356\n",
            "\n",
            "      Epoch    GPU_mem   box_loss   obj_loss   cls_loss  Instances       Size\n",
            "      20/29      7.38G     0.0268    0.01991    0.01032         12        640: 100% 245/245 [03:33<00:00,  1.15it/s]\n",
            "                 Class     Images  Instances          P          R      mAP50   mAP50-95: 100% 46/46 [00:35<00:00,  1.31it/s]\n",
            "                   all       1452       2580      0.508      0.483      0.495      0.374\n",
            "\n",
            "      Epoch    GPU_mem   box_loss   obj_loss   cls_loss  Instances       Size\n",
            "      21/29      7.38G    0.02616    0.01928   0.009431         12        640: 100% 245/245 [03:33<00:00,  1.15it/s]\n",
            "                 Class     Images  Instances          P          R      mAP50   mAP50-95: 100% 46/46 [00:32<00:00,  1.41it/s]\n",
            "                   all       1452       2580      0.553      0.451      0.497      0.378\n",
            "\n",
            "      Epoch    GPU_mem   box_loss   obj_loss   cls_loss  Instances       Size\n",
            "      22/29      7.38G    0.02575    0.01882   0.008884         11        640: 100% 245/245 [03:31<00:00,  1.16it/s]\n",
            "                 Class     Images  Instances          P          R      mAP50   mAP50-95: 100% 46/46 [00:34<00:00,  1.35it/s]\n",
            "                   all       1452       2580       0.53      0.464      0.505       0.39\n",
            "\n",
            "      Epoch    GPU_mem   box_loss   obj_loss   cls_loss  Instances       Size\n",
            "      23/29      7.38G     0.0249    0.01855   0.008052         10        640: 100% 245/245 [03:23<00:00,  1.20it/s]\n",
            "                 Class     Images  Instances          P          R      mAP50   mAP50-95: 100% 46/46 [00:37<00:00,  1.23it/s]\n",
            "                   all       1452       2580      0.543      0.531      0.524      0.402\n",
            "\n",
            "      Epoch    GPU_mem   box_loss   obj_loss   cls_loss  Instances       Size\n",
            "      24/29      7.38G    0.02438    0.01833   0.007403         10        640: 100% 245/245 [03:29<00:00,  1.17it/s]\n",
            "                 Class     Images  Instances          P          R      mAP50   mAP50-95: 100% 46/46 [00:36<00:00,  1.25it/s]\n",
            "                   all       1452       2580      0.582      0.521      0.533      0.413\n",
            "\n",
            "      Epoch    GPU_mem   box_loss   obj_loss   cls_loss  Instances       Size\n",
            "      25/29      7.38G    0.02403     0.0185   0.006907         13        640: 100% 245/245 [03:31<00:00,  1.16it/s]\n",
            "                 Class     Images  Instances          P          R      mAP50   mAP50-95: 100% 46/46 [00:33<00:00,  1.36it/s]\n",
            "                   all       1452       2580       0.57      0.548      0.554      0.432\n",
            "\n",
            "      Epoch    GPU_mem   box_loss   obj_loss   cls_loss  Instances       Size\n",
            "      26/29      7.38G    0.02334    0.01785    0.00666         10        640: 100% 245/245 [03:27<00:00,  1.18it/s]\n",
            "                 Class     Images  Instances          P          R      mAP50   mAP50-95: 100% 46/46 [00:35<00:00,  1.30it/s]\n",
            "                   all       1452       2580      0.612      0.518       0.55      0.428\n",
            "\n",
            "      Epoch    GPU_mem   box_loss   obj_loss   cls_loss  Instances       Size\n",
            "      27/29      7.38G    0.02253    0.01746   0.006336         15        640: 100% 245/245 [03:33<00:00,  1.15it/s]\n",
            "                 Class     Images  Instances          P          R      mAP50   mAP50-95: 100% 46/46 [00:30<00:00,  1.50it/s]\n",
            "                   all       1452       2580      0.609      0.533      0.556      0.434\n",
            "\n",
            "      Epoch    GPU_mem   box_loss   obj_loss   cls_loss  Instances       Size\n",
            "      28/29      7.38G    0.02229    0.01725   0.005605         13        640: 100% 245/245 [03:32<00:00,  1.15it/s]\n",
            "                 Class     Images  Instances          P          R      mAP50   mAP50-95: 100% 46/46 [00:34<00:00,  1.32it/s]\n",
            "                   all       1452       2580      0.608      0.506      0.548       0.43\n",
            "\n",
            "      Epoch    GPU_mem   box_loss   obj_loss   cls_loss  Instances       Size\n",
            "      29/29      7.38G    0.02213    0.01693   0.004899          8        640: 100% 245/245 [03:35<00:00,  1.14it/s]\n",
            "                 Class     Images  Instances          P          R      mAP50   mAP50-95: 100% 46/46 [00:31<00:00,  1.46it/s]\n",
            "                   all       1452       2580      0.611      0.508      0.537      0.423\n",
            "\n",
            "30 epochs completed in 2.054 hours.\n",
            "Optimizer stripped from runs/train/exp/weights/last.pt, 42.3MB\n",
            "Optimizer stripped from runs/train/exp/weights/best.pt, 42.3MB\n",
            "\n",
            "Validating runs/train/exp/weights/best.pt...\n",
            "Fusing layers... \n",
            "Model summary: 212 layers, 20877180 parameters, 0 gradients, 47.9 GFLOPs\n",
            "                 Class     Images  Instances          P          R      mAP50   mAP50-95: 100% 46/46 [00:35<00:00,  1.29it/s]\n",
            "                   all       1452       2580      0.612      0.532      0.556      0.434\n",
            "             Cardboard       1452        430       0.73      0.686      0.726      0.584\n",
            "                 Glass       1452        320       0.57     0.0906      0.269      0.179\n",
            "                 Metal       1452        462      0.603      0.799      0.762      0.641\n",
            "                 Paper       1452        233      0.847      0.695      0.758       0.66\n",
            "               Plastic       1452        481      0.489      0.599      0.476       0.35\n",
            "             Thermocol       1452         43      0.421      0.326      0.336      0.292\n",
            "             Wet Waste       1452        611       0.62      0.527      0.568      0.333\n",
            "Results saved to \u001b[1mruns/train/exp\u001b[0m\n"
          ]
        }
      ],
      "source": [
        "%cd /content/drive/MyDrive/last/yolov5/\n",
        "!python train.py --img 640 --batch 16 --epochs 30 --data /content/drive/MyDrive/last/waste-segregation-3/data.yaml --weights yolov5m.pt"
      ]
    },
    {
      "cell_type": "markdown",
      "metadata": {},
      "source": [
        "## Once the training is done download the model file"
      ]
    },
    {
      "cell_type": "code",
      "execution_count": null,
      "metadata": {
        "colab": {
          "base_uri": "https://localhost:8080/",
          "height": 52
        },
        "id": "ychDCT0EU6E4",
        "outputId": "034b415f-130a-4dda-dd4c-cf6791589c37"
      },
      "outputs": [
        {
          "data": {
            "application/javascript": "\n    async function download(id, filename, size) {\n      if (!google.colab.kernel.accessAllowed) {\n        return;\n      }\n      const div = document.createElement('div');\n      const label = document.createElement('label');\n      label.textContent = `Downloading \"${filename}\": `;\n      div.appendChild(label);\n      const progress = document.createElement('progress');\n      progress.max = size;\n      div.appendChild(progress);\n      document.body.appendChild(div);\n\n      const buffers = [];\n      let downloaded = 0;\n\n      const channel = await google.colab.kernel.comms.open(id);\n      // Send a message to notify the kernel that we're ready.\n      channel.send({})\n\n      for await (const message of channel.messages) {\n        // Send a message to notify the kernel that we're ready.\n        channel.send({})\n        if (message.buffers) {\n          for (const buffer of message.buffers) {\n            buffers.push(buffer);\n            downloaded += buffer.byteLength;\n            progress.value = downloaded;\n          }\n        }\n      }\n      const blob = new Blob(buffers, {type: 'application/binary'});\n      const a = document.createElement('a');\n      a.href = window.URL.createObjectURL(blob);\n      a.download = filename;\n      div.appendChild(a);\n      a.click();\n      div.remove();\n    }\n  ",
            "text/plain": [
              "<IPython.core.display.Javascript object>"
            ]
          },
          "metadata": {},
          "output_type": "display_data"
        },
        {
          "data": {
            "application/javascript": "download(\"download_c150bd8a-7974-4b29-9c55-effc7183407f\", \"best.pt\", 42275092)",
            "text/plain": [
              "<IPython.core.display.Javascript object>"
            ]
          },
          "metadata": {},
          "output_type": "display_data"
        },
        {
          "data": {
            "application/javascript": "\n    async function download(id, filename, size) {\n      if (!google.colab.kernel.accessAllowed) {\n        return;\n      }\n      const div = document.createElement('div');\n      const label = document.createElement('label');\n      label.textContent = `Downloading \"${filename}\": `;\n      div.appendChild(label);\n      const progress = document.createElement('progress');\n      progress.max = size;\n      div.appendChild(progress);\n      document.body.appendChild(div);\n\n      const buffers = [];\n      let downloaded = 0;\n\n      const channel = await google.colab.kernel.comms.open(id);\n      // Send a message to notify the kernel that we're ready.\n      channel.send({})\n\n      for await (const message of channel.messages) {\n        // Send a message to notify the kernel that we're ready.\n        channel.send({})\n        if (message.buffers) {\n          for (const buffer of message.buffers) {\n            buffers.push(buffer);\n            downloaded += buffer.byteLength;\n            progress.value = downloaded;\n          }\n        }\n      }\n      const blob = new Blob(buffers, {type: 'application/binary'});\n      const a = document.createElement('a');\n      a.href = window.URL.createObjectURL(blob);\n      a.download = filename;\n      div.appendChild(a);\n      a.click();\n      div.remove();\n    }\n  ",
            "text/plain": [
              "<IPython.core.display.Javascript object>"
            ]
          },
          "metadata": {},
          "output_type": "display_data"
        },
        {
          "data": {
            "application/javascript": "download(\"download_c293c692-8a3a-4081-bf1f-12f3402c3a21\", \"best.pt\", 42275092)",
            "text/plain": [
              "<IPython.core.display.Javascript object>"
            ]
          },
          "metadata": {},
          "output_type": "display_data"
        }
      ],
      "source": [
        "from google.colab import files\n",
        "files.download(\"/content/drive/MyDrive/last/yolov5/runs/train/exp/weights/best.pt\")"
      ]
    },
    {
      "cell_type": "code",
      "execution_count": null,
      "metadata": {
        "colab": {
          "base_uri": "https://localhost:8080/"
        },
        "id": "1zrMSYfnVF4Q",
        "outputId": "37723867-fe09-4a43-df72-21e39d0a4b43"
      },
      "outputs": [
        {
          "name": "stdout",
          "output_type": "stream",
          "text": [
            "done\n"
          ]
        }
      ],
      "source": [
        "print(\"done\")"
      ]
    },
    {
      "cell_type": "code",
      "execution_count": null,
      "metadata": {
        "id": "J1kwOxbecVbe"
      },
      "outputs": [],
      "source": []
    }
  ],
  "metadata": {
    "accelerator": "GPU",
    "colab": {
      "gpuType": "T4",
      "provenance": []
    },
    "kernelspec": {
      "display_name": "Python 3",
      "name": "python3"
    },
    "language_info": {
      "name": "python"
    }
  },
  "nbformat": 4,
  "nbformat_minor": 0
}
